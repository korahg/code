{
 "cells": [
  {
   "cell_type": "code",
   "execution_count": 7,
   "id": "ec31c7ad",
   "metadata": {},
   "outputs": [
    {
     "name": "stdout",
     "output_type": "stream",
     "text": [
      "[['physics', 98], ['calculus', 97], ['poetry', 85], ['history', 88]]\n"
     ]
    }
   ],
   "source": [
    "subjects = [\"physics\", \"calculus\", \"poetry\", \"history\"]\n",
    "grades = [98, 97, 85, 88]\n",
    "\n",
    "gradebook = [['physics', 98], ['calculus', 97], ['poetry', 85], ['history', 88]]\n",
    "print(gradebook)"
   ]
  },
  {
   "cell_type": "code",
   "execution_count": 8,
   "id": "5404757a",
   "metadata": {},
   "outputs": [
    {
     "name": "stdout",
     "output_type": "stream",
     "text": [
      "[['physics', 98], ['calculus', 97], ['poetry', 85], ['history', 88], ['computer science', 100], ['visual arts', 93]]\n"
     ]
    }
   ],
   "source": [
    "gradebook.append(['computer science', 100])\n",
    "gradebook.append(['visual arts', 93])\n",
    "print(gradebook)"
   ]
  },
  {
   "cell_type": "code",
   "execution_count": 44,
   "id": "3ada0cf7",
   "metadata": {},
   "outputs": [
    {
     "name": "stdout",
     "output_type": "stream",
     "text": [
      "[['physics', 98], ['calculus', 97, ['poetry', 'Pass']], ['history', 88], ['computer science', 100], ('visual arts', 98)]\n"
     ]
    }
   ],
   "source": [
    "gradebook = [['physics', 98], ['calculus', 97], ['poetry', 85], ['history', 88], ['computer science', 100], ['visual arts', 93]]\n",
    "gradebook[5]= 'visual arts', 98\n",
    "gradebook.remove(gradebook[2])\n",
    "gradebook[1].append(['poetry', 'Pass'])\n",
    "print(gradebook)"
   ]
  },
  {
   "cell_type": "code",
   "execution_count": 47,
   "id": "831b881a",
   "metadata": {},
   "outputs": [
    {
     "name": "stdout",
     "output_type": "stream",
     "text": [
      "[['politics', 80], ['latin', 96], ['dance', 97], ['architecture', 65], ['physics', 98], ['calculus', 97, ['poetry', 'Pass']], ['history', 88], ['computer science', 100], ('visual arts', 98)]\n"
     ]
    }
   ],
   "source": [
    "last_semester_gradebook = [[\"politics\", 80], [\"latin\", 96], [\"dance\", 97], [\"architecture\", 65]]\n",
    "full_gradebook = last_semester_gradebook + gradebook\n",
    "print(full_gradebook)"
   ]
  }
 ],
 "metadata": {
  "kernelspec": {
   "display_name": "Python 3 (ipykernel)",
   "language": "python",
   "name": "python3"
  },
  "language_info": {
   "codemirror_mode": {
    "name": "ipython",
    "version": 3
   },
   "file_extension": ".py",
   "mimetype": "text/x-python",
   "name": "python",
   "nbconvert_exporter": "python",
   "pygments_lexer": "ipython3",
   "version": "3.9.12"
  }
 },
 "nbformat": 4,
 "nbformat_minor": 5
}
